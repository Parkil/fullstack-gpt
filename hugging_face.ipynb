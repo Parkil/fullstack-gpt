{
 "cells": [
  {
   "cell_type": "code",
   "id": "initial_id",
   "metadata": {
    "collapsed": true,
    "ExecuteTime": {
     "end_time": "2024-05-13T06:22:13.270588Z",
     "start_time": "2024-05-13T06:22:10.810037Z"
    }
   },
   "source": [
    "from langchain.llms import HuggingFaceHub\n",
    "from langchain.prompts import PromptTemplate\n",
    "\n",
    "# https://docs.mistral.ai/getting-started/open_weight_models/#chat-template mistralai 나 기타 AI 의 경우 open ai 와 다르게 입력받는 별도 format 이 정해져 있는 경우가 있다 이 경우 에는 각자의 API 를 찾아 봐야 함\n",
    "prompt = PromptTemplate.from_template(\"[INST]What is the meaning of {word}?[/INST]\")\n",
    "\n",
    "llm = HuggingFaceHub(\n",
    "    repo_id = \"mistralai/Mistral-7B-Instruct-v0.2\",\n",
    "    model_kwargs = {\"max_new_tokens\": 250} \n",
    ")\n",
    "\n",
    "chain = prompt | llm\n",
    "\n",
    "chain.invoke({\n",
    "    \"word\": \"potato\"\n",
    "})\n"
   ],
   "outputs": [
    {
     "data": {
      "text/plain": [
       "'[INST]What is the meaning of potato?[/INST] A potato is a starchy vegetable that is native to South America. It is one of the most widely consumed crops in the world, and is grown for its edible tubers. Potatoes come in many different varieties, shapes, sizes, and colors, but they all belong to the Solanum tuberosum species. Potatoes are rich in nutrients, including carbohydrates, fiber, protein, vitamin C, and various essential minerals. They are often cooked and served as a side dish, but can also be used to make a wide range of dishes, such as soups, stews, salads, and baked goods. Potatoes are versatile, delicious, and an important source of food for people around the world.'"
      ]
     },
     "execution_count": 7,
     "metadata": {},
     "output_type": "execute_result"
    }
   ],
   "execution_count": 7
  },
  {
   "metadata": {
    "ExecuteTime": {
     "end_time": "2024-05-13T06:58:43.712552Z",
     "start_time": "2024-05-13T06:58:41.156112Z"
    }
   },
   "cell_type": "code",
   "source": [
    "from langchain.llms import HuggingFacePipeline\n",
    "from langchain.prompts import PromptTemplate\n",
    "\n",
    "# c:\\Users\\MyPC\\.cache\\huggingface\\hub\\ 에 model 이 저장 된다\n",
    "prompt = PromptTemplate.from_template(\"A {word} is a\")\n",
    "\n",
    "llm = HuggingFacePipeline.from_model_id(\n",
    "    \"gpt2\",\n",
    "    # \"mistralai/Mistral-7B-Instruct-v0.2\",\n",
    "    task=\"text-generation\",\n",
    "    pipeline_kwargs={\"max_new_tokens\": 50} \n",
    ")\n",
    "\n",
    "chain = prompt | llm\n",
    "\n",
    "chain.invoke({\n",
    "    \"word\": \"tomato\"\n",
    "})"
   ],
   "id": "6cf0d89ba2c71fe5",
   "outputs": [
    {
     "name": "stderr",
     "output_type": "stream",
     "text": [
      "C:\\dev\\py_workspace\\fullstack-gpt\\venv\\Lib\\site-packages\\huggingface_hub\\file_download.py:1132: FutureWarning: `resume_download` is deprecated and will be removed in version 1.0.0. Downloads always resume when possible. If you want to force a new download, use `force_download=True`.\n",
      "  warnings.warn(\n"
     ]
    },
    {
     "data": {
      "text/plain": [
       "\"A tomato is a thin, fleshy bean that grows in the upper soil of soil around a tree. When the soil is disturbed it begins to dig up some new vegetation. That's where the roots of plants grow.\\n\\nThe term beans is also used for various\""
      ]
     },
     "execution_count": 12,
     "metadata": {},
     "output_type": "execute_result"
    }
   ],
   "execution_count": 12
  },
  {
   "metadata": {
    "jupyter": {
     "is_executing": true
    },
    "ExecuteTime": {
     "start_time": "2024-05-13T23:17:20.450279Z"
    }
   },
   "cell_type": "code",
   "source": [
    "from langchain.llms import GPT4All\n",
    "from langchain.prompts import PromptTemplate\n",
    "\n",
    "# c:\\Users\\MyPC\\.cache\\huggingface\\hub\\ 에 model 이 저장 된다\n",
    "prompt = PromptTemplate.from_template(\"A {word} is a\")\n",
    "\n",
    "# model 에는 local model 명이 들어 간다 .bin 또는 .gguf 파일 형식이 들어 갈 수 있다 \n",
    "# HDD 와 SSD 에서 실행할 때 실핼 속도 차이가 많이 난다\n",
    "# mistral-7b 를 실행할 때 처음 에는 7초 정도가 걸리 는데 다시 실행 하면 실행 시간이 엄청 나게 걸린다 \n",
    "llm = GPT4All(model=\"./mistral-7b.gguf\", device=\"nvidia\")\n",
    "\n",
    "chain = prompt | llm\n",
    "\n",
    "chain.invoke({\n",
    "    \"word\": \"tomato\"\n",
    "})"
   ],
   "id": "75ef20ac512b6c5e",
   "outputs": [],
   "execution_count": null
  },
  {
   "metadata": {},
   "cell_type": "code",
   "outputs": [],
   "execution_count": null,
   "source": "",
   "id": "88c0e17637641af9"
  }
 ],
 "metadata": {
  "kernelspec": {
   "display_name": "Python 3",
   "language": "python",
   "name": "python3"
  },
  "language_info": {
   "codemirror_mode": {
    "name": "ipython",
    "version": 2
   },
   "file_extension": ".py",
   "mimetype": "text/x-python",
   "name": "python",
   "nbconvert_exporter": "python",
   "pygments_lexer": "ipython2",
   "version": "2.7.6"
  }
 },
 "nbformat": 4,
 "nbformat_minor": 5
}
