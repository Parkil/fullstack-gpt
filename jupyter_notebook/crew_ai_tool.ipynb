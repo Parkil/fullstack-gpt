{
 "cells": [
  {
   "cell_type": "code",
   "id": "initial_id",
   "metadata": {
    "collapsed": true,
    "ExecuteTime": {
     "end_time": "2024-07-13T22:33:47.548627Z",
     "start_time": "2024-07-13T22:33:47.531282Z"
    }
   },
   "source": [
    "import os\n",
    "from dotenv import load_dotenv\n",
    "\n",
    "load_dotenv()\n",
    "\n",
    "os.environ[\"OPENAI_MODEL_NAME\"] = \"gpt-4o\""
   ],
   "execution_count": 1,
   "outputs": []
  },
  {
   "metadata": {
    "ExecuteTime": {
     "end_time": "2024-07-13T22:33:47.739240Z",
     "start_time": "2024-07-13T22:33:47.549634Z"
    }
   },
   "cell_type": "code",
   "source": [
    "from pydantic import BaseModel\n",
    "from typing import List\n",
    "\n",
    "\"A blog post with an introduction, at least three sub-sections of content, links to sources, a set of suggested hashtags for social media and a catchy title.\"\n",
    "\n",
    "class SubSection(BaseModel):\n",
    "    title:str\n",
    "    content:str\n",
    "\n",
    "class BlogPost(BaseModel):\n",
    "    title: str    \n",
    "    introduction: str\n",
    "    sections: List[SubSection]\n",
    "    sources:List[str]\n",
    "    hashtags: List[str]"
   ],
   "id": "25317371b81d12e5",
   "execution_count": 2,
   "outputs": []
  },
  {
   "metadata": {
    "ExecuteTime": {
     "end_time": "2024-07-13T22:33:55.414023Z",
     "start_time": "2024-07-13T22:33:47.740249Z"
    }
   },
   "cell_type": "code",
   "source": [
    "from crewai import Crew, Agent, Task\n",
    "from crewai_tools import (\n",
    "    SerperDevTool, ScrapeWebsiteTool\n",
    ")\n",
    "\n",
    "search_tool = SerperDevTool()\n",
    "scrape_tool = ScrapeWebsiteTool()\n",
    "\n",
    "researcher = Agent(\n",
    "    role=\"Senior Researcher\",\n",
    "    goal=\"Search the web, extract and analyze information.\",\n",
    "    backstory=\"\"\"\n",
    "    You produce the highest quality research possible.\n",
    "    You use multiple sources of information and you always double check your sources to make sure they are true and up to date.\n",
    "    You want to impress your coworkers with your work.\n",
    "    \"\"\",\n",
    "    allow_delegation=False,\n",
    "    verbose=True,\n",
    "    tools=[\n",
    "        search_tool,\n",
    "        scrape_tool,\n",
    "    ],\n",
    "    max_iter=10,\n",
    ")\n",
    "\n",
    "editor = Agent(\n",
    "    role=\"Senior Writer/Editor\",\n",
    "    goal=\"Write engaging blog posts.\",\n",
    "    backstory=\"\"\"\n",
    "    You write content that keeps people engaged and entertained.\n",
    "    Your content is easy to read it is informative and it makes people want to share it with their friends.\n",
    "    You are working for a very important client.\n",
    "    \"\"\",\n",
    "    verbose=True,\n",
    ")"
   ],
   "id": "7eca2556815511a5",
   "execution_count": 3,
   "outputs": []
  },
  {
   "metadata": {
    "ExecuteTime": {
     "end_time": "2024-07-13T22:33:55.418823Z",
     "start_time": "2024-07-13T22:33:55.415370Z"
    }
   },
   "cell_type": "code",
   "source": [
    "task = Task(\n",
    "    description=\"Write a blog post about {topic}\",\n",
    "    agent=editor,\n",
    "    expected_output=\"A blog post with an introduction, at least three sub-sections of content, links to sources, a set of suggested hashtags for social media and a catchy title.\",\n",
    "    output_file=\"blog_post.md\",\n",
    "    output_pydantic=BlogPost, # pydantic 에 지정된 형태 대로 결과값을 format 하여 반환\n",
    ")"
   ],
   "id": "3034184f8ec70906",
   "execution_count": 4,
   "outputs": []
  },
  {
   "metadata": {
    "ExecuteTime": {
     "end_time": "2024-07-13T22:35:03.446143Z",
     "start_time": "2024-07-13T22:33:55.419830Z"
    }
   },
   "cell_type": "code",
   "source": [
    "crew = Crew(agents=[researcher, editor,], tasks=[task], verbose=2)\n",
    "result = crew.kickoff(\n",
    "    inputs={\n",
    "        \"topic\": \"The biggest box office flops of 2024\"\n",
    "    }\n",
    ")\n",
    "\n",
    "result"
   ],
   "id": "e388098dcfcc7a3b",
   "execution_count": 5,
   "outputs": []
  }
 ],
 "metadata": {
  "kernelspec": {
   "display_name": "Python 3",
   "language": "python",
   "name": "python3"
  },
  "language_info": {
   "codemirror_mode": {
    "name": "ipython",
    "version": 2
   },
   "file_extension": ".py",
   "mimetype": "text/x-python",
   "name": "python",
   "nbconvert_exporter": "python",
   "pygments_lexer": "ipython2",
   "version": "2.7.6"
  }
 },
 "nbformat": 4,
 "nbformat_minor": 5
}
