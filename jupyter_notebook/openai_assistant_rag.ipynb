{
 "cells": [
  {
   "cell_type": "code",
   "id": "initial_id",
   "metadata": {
    "collapsed": true,
    "ExecuteTime": {
     "end_time": "2024-07-06T02:04:54.005097Z",
     "start_time": "2024-07-06T02:04:43.645286Z"
    }
   },
   "source": [
    "import json\n",
    "import os\n",
    "\n",
    "import requests\n",
    "from dotenv import load_dotenv\n",
    "from openai import OpenAI\n",
    "\n",
    "import openai as client\n",
    "\n",
    "# open ai assistant 생성\n",
    "# assistant = client.beta.assistants.create(\n",
    "#     name=\"Book Assistant\",\n",
    "#     instructions=\"You help users with their questions on the files they upload\",\n",
    "#     model=\"gpt-4-turbo\",\n",
    "#     tools=[{\"type\": \"file_search\"}]\n",
    "# )\n",
    "\n",
    "assistant_id = 'asst_vSYfxk144i8kWlJbqn7Cb22i'\n",
    "\n",
    "message_file = client.files.create(\n",
    "    file=open(\"../files/sample.txt\", \"rb\"), purpose=\"assistants\"\n",
    ")\n",
    "\n",
    "thread = client.beta.threads.create(\n",
    "    messages=[\n",
    "        {\n",
    "            \"role\": \"user\",\n",
    "            \"content\": \"I want to know where does Winston live and how his apartment looks like.\",\n",
    "            # \"content\": \"I want you to help me with this file\",\n",
    "            \"attachments\": [\n",
    "                {\"file_id\": message_file.id, \"tools\": [{\"type\": \"file_search\"}]}\n",
    "            ],\n",
    "        }\n",
    "    ]\n",
    ")\n",
    "\n",
    "run = client.beta.threads.runs.create_and_poll(\n",
    "    thread_id=thread.id,\n",
    "    assistant_id=assistant_id,\n",
    ")\n",
    "\n",
    "messages = list(client.beta.threads.messages.list(thread_id=thread.id, run_id=run.id))\n",
    "\n",
    "message_content = messages[0].content[0].text\n",
    "annotations = message_content.annotations\n",
    "citations = []\n",
    "for index, annotation in enumerate(annotations):\n",
    "    message_content.value = message_content.value.replace(annotation.text, f\"[{index}]\")\n",
    "    if file_citation := getattr(annotation, \"file_citation\", None):\n",
    "        cited_file = client.files.retrieve(file_citation.file_id)\n",
    "        citations.append(f\"[{index}] {cited_file.filename}\")\n",
    "\n",
    "print(message_content.value)\n",
    "# print(\"\\n\".join(citations))"
   ],
   "outputs": [
    {
     "name": "stdout",
     "output_type": "stream",
     "text": [
      "Winston lives in Victory Mansions, which are located in London, specifically in the province of Oceania[0]. His apartment is described as having a hallway that smells of boiled cabbage and old rag mats, suggesting a dreary and dilapidated setting. Inside, the flat is equipped with a device called a telescreen that cannot be completely shut off, which broadcasts a voice reading out figures related to pig-iron production. The flat itself appears quite functional and stark, with Winston noting such details as the frailty and meagerness emphasized by his uniform[0].\n"
     ]
    }
   ],
   "execution_count": 23
  }
 ],
 "metadata": {
  "kernelspec": {
   "display_name": "Python 3",
   "language": "python",
   "name": "python3"
  },
  "language_info": {
   "codemirror_mode": {
    "name": "ipython",
    "version": 2
   },
   "file_extension": ".py",
   "mimetype": "text/x-python",
   "name": "python",
   "nbconvert_exporter": "python",
   "pygments_lexer": "ipython2",
   "version": "2.7.6"
  }
 },
 "nbformat": 4,
 "nbformat_minor": 5
}
