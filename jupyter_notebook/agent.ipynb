{
 "cells": [
  {
   "cell_type": "code",
   "id": "initial_id",
   "metadata": {
    "collapsed": true,
    "ExecuteTime": {
     "end_time": "2024-06-09T09:01:46.218333Z",
     "start_time": "2024-06-09T09:01:36.383651Z"
    }
   },
   "source": [
    "from typing import Type, Any\n",
    "\n",
    "from langchain_openai import ChatOpenAI\n",
    "from langchain.tools import StructuredTool, Tool\n",
    "from langchain.agents import initialize_agent, AgentType\n",
    "\n",
    "llm = ChatOpenAI(temperature=0.1)\n",
    "\n",
    "# ZERO_SHOT_REACT_DESCRIPTION 은 1개의 파라메터 만 받을 수 있다\n",
    "# STRUCTURED_CHAT_ZERO_SHOT_REACT_DESCRIPTION + StructuredTool 을 이용할 때에는\n",
    "# 연산이 중간에 끊기 거나 잘못된 결과가 나오는 경우가 있었는데 ZERO_SHOT_REACT_DESCRIPTION + Tool \n",
    "# 을 이용했을 때에는 그런경우가 나오지 않았음, 수식 처리에서는 이게 효과적인건가?\n",
    "def plus(param_csv):\n",
    "    a,b = param_csv.split(\",\")\n",
    "    return float(a) + float(b)\n",
    "\n",
    "agent = initialize_agent(\n",
    "    llm=llm,\n",
    "    verbose=True,\n",
    "    agent=AgentType.ZERO_SHOT_REACT_DESCRIPTION,\n",
    "    tools=[\n",
    "        Tool.from_function(\n",
    "            func=plus,\n",
    "            name=\"Sum Calculator\",\n",
    "            description=\"Use this to perform sums of two numbers. Use this tool by sending a pair of number separated by a comma.\\n\"\n",
    "                        \"Example:1,2\",\n",
    "        ),\n",
    "    ],\n",
    ")\n",
    "\n",
    "prompt = \"Cost of $355.39 + $924.87 + $721.2 + $1940.29 + $573.63 + $65.72 + $35.00 + $552.00 + $76.16 + $29.12\"\n",
    "\n",
    "# llm 자체는 연산을 수행할 수 없다 \n",
    "agent.invoke(prompt)"
   ],
   "outputs": [
    {
     "name": "stdout",
     "output_type": "stream",
     "text": [
      "\n",
      "\n",
      "\u001B[1m> Entering new AgentExecutor chain...\u001B[0m\n",
      "\u001B[32;1m\u001B[1;3mThis is a sum of multiple numbers, so I should use the Sum Calculator tool to find the total cost.\n",
      "Action: Sum Calculator\n",
      "Action Input: 355.39,924.87\u001B[0m\n",
      "Observation: \u001B[36;1m\u001B[1;3m1280.26\u001B[0m\n",
      "Thought:\u001B[32;1m\u001B[1;3mI need to continue adding the remaining numbers to the total.\n",
      "Action: Sum Calculator\n",
      "Action Input: 1280.26,721.2\u001B[0m\n",
      "Observation: \u001B[36;1m\u001B[1;3m2001.46\u001B[0m\n",
      "Thought:\u001B[32;1m\u001B[1;3mI need to continue adding the remaining numbers to the total.\n",
      "Action: Sum Calculator\n",
      "Action Input: 2001.46,1940.29\u001B[0m\n",
      "Observation: \u001B[36;1m\u001B[1;3m3941.75\u001B[0m\n",
      "Thought:\u001B[32;1m\u001B[1;3mI need to continue adding the remaining numbers to the total.\n",
      "Action: Sum Calculator\n",
      "Action Input: 3941.75,573.63\u001B[0m\n",
      "Observation: \u001B[36;1m\u001B[1;3m4515.38\u001B[0m\n",
      "Thought:\u001B[32;1m\u001B[1;3mI need to continue adding the remaining numbers to the total.\n",
      "Action: Sum Calculator\n",
      "Action Input: 4515.38,65.72\u001B[0m\n",
      "Observation: \u001B[36;1m\u001B[1;3m4581.1\u001B[0m\n",
      "Thought:\u001B[32;1m\u001B[1;3mI need to continue adding the remaining numbers to the total.\n",
      "Action: Sum Calculator\n",
      "Action Input: 4581.1,35.00\u001B[0m\n",
      "Observation: \u001B[36;1m\u001B[1;3m4616.1\u001B[0m\n",
      "Thought:\u001B[32;1m\u001B[1;3mI need to continue adding the remaining numbers to the total.\n",
      "Action: Sum Calculator\n",
      "Action Input: 4616.1,552.00\u001B[0m\n",
      "Observation: \u001B[36;1m\u001B[1;3m5168.1\u001B[0m\n",
      "Thought:\u001B[32;1m\u001B[1;3mI need to continue adding the remaining numbers to the total.\n",
      "Action: Sum Calculator\n",
      "Action Input: 5168.1,76.16\u001B[0m\n",
      "Observation: \u001B[36;1m\u001B[1;3m5244.26\u001B[0m\n",
      "Thought:\u001B[32;1m\u001B[1;3mI need to continue adding the remaining numbers to the total.\n",
      "Action: Sum Calculator\n",
      "Action Input: 5244.26,29.12\u001B[0m\n",
      "Observation: \u001B[36;1m\u001B[1;3m5273.38\u001B[0m\n",
      "Thought:\u001B[32;1m\u001B[1;3mI now know the final answer\n",
      "Final Answer: $5273.38\u001B[0m\n",
      "\n",
      "\u001B[1m> Finished chain.\u001B[0m\n"
     ]
    },
    {
     "data": {
      "text/plain": [
       "{'input': 'Cost of $355.39 + $924.87 + $721.2 + $1940.29 + $573.63 + $65.72 + $35.00 + $552.00 + $76.16 + $29.12',\n",
       " 'output': '$5273.38'}"
      ]
     },
     "execution_count": 6,
     "metadata": {},
     "output_type": "execute_result"
    }
   ],
   "execution_count": 6
  },
  {
   "metadata": {
    "ExecuteTime": {
     "end_time": "2024-06-07T09:15:26.381350Z",
     "start_time": "2024-06-07T09:15:26.376612Z"
    }
   },
   "cell_type": "code",
   "source": "355.39 + 924.87 + 721.2 + 1940.29 + 573.63 + 65.72 + 35.00 + 552.00 + 76.16 + 29.12",
   "id": "9ac68027d42c5093",
   "outputs": [
    {
     "data": {
      "text/plain": [
       "5273.38"
      ]
     },
     "execution_count": 3,
     "metadata": {},
     "output_type": "execute_result"
    }
   ],
   "execution_count": 3
  },
  {
   "metadata": {
    "ExecuteTime": {
     "end_time": "2024-06-10T11:16:30.641557Z",
     "start_time": "2024-06-10T11:16:19.735035Z"
    }
   },
   "cell_type": "code",
   "source": [
    "from typing import Type\n",
    "from langchain_core.tools import BaseTool\n",
    "from langchain_openai import ChatOpenAI\n",
    "from langchain.agents import initialize_agent, AgentType\n",
    "from pydantic import BaseModel, Field\n",
    "\n",
    "llm = ChatOpenAI(temperature=0.1)\n",
    "\n",
    "def plus(a, b):\n",
    "    return a + b\n",
    "\n",
    "# function 의 구조를 설정 예전 quiz gpt 에서는 json 형식 으로 일일히 지정해 줬지만 pydantic 을 이용 하여 정의 하는 것도 가능  \n",
    "class CalculatorToolArgsSchema(BaseModel):\n",
    "    a: float = Field(description=\"The first number\")\n",
    "    b: float = Field(description=\"The second number\")\n",
    "    \n",
    "\n",
    "# function call 을 사용 하면 token 의 개수를 획기적 으로 줄일 수 있다\n",
    "class CalculatorTool(BaseTool):\n",
    "\n",
    "    name = \"SumsCalculator\"\n",
    "    description = \"\"\"\n",
    "        Use this to perform sums of two numbers.\n",
    "        The first and second arguments should be numbers.\n",
    "        Only receives two arguments.\n",
    "    \"\"\"\n",
    "    args_schema: Type[CalculatorToolArgsSchema] = CalculatorToolArgsSchema\n",
    "\n",
    "    def _run(self, a, b) -> float:\n",
    "        return plus(a, b)\n",
    "\n",
    "agent = initialize_agent(\n",
    "    llm=llm,\n",
    "    verbose=True,\n",
    "    agent=AgentType.OPENAI_FUNCTIONS,\n",
    "    tools=[\n",
    "       CalculatorTool()\n",
    "    ],\n",
    ")\n",
    "\n",
    "prompt = \"Cost of $355.39 + $924.87 + $721.2 + $1940.29 + $573.63 + $65.72 + $35.00 + $552.00 + $76.16 + $29.12\"\n",
    "\n",
    "# llm 자체는 연산을 수행할 수 없다 \n",
    "agent.invoke(prompt)"
   ],
   "id": "ca2ddf18bb0aac49",
   "outputs": [
    {
     "name": "stderr",
     "output_type": "stream",
     "text": [
      "C:\\Dev\\py_workspace\\fullstack-gpt\\venv\\Lib\\site-packages\\langchain_core\\_api\\deprecation.py:119: LangChainDeprecationWarning: The function `initialize_agent` was deprecated in LangChain 0.1.0 and will be removed in 0.2.0. Use Use new agent constructor methods like create_react_agent, create_json_agent, create_structured_chat_agent, etc. instead.\n",
      "  warn_deprecated(\n"
     ]
    },
    {
     "name": "stdout",
     "output_type": "stream",
     "text": [
      "\n",
      "\n",
      "\u001B[1m> Entering new AgentExecutor chain...\u001B[0m\n",
      "\u001B[32;1m\u001B[1;3m\n",
      "Invoking: `SumsCalculator` with `{'a': 355.39, 'b': 924.87}`\n",
      "\n",
      "\n",
      "\u001B[0m\u001B[36;1m\u001B[1;3m1280.26\u001B[0m\u001B[32;1m\u001B[1;3m\n",
      "Invoking: `SumsCalculator` with `{'a': 1280.26, 'b': 721.2}`\n",
      "\n",
      "\n",
      "\u001B[0m\u001B[36;1m\u001B[1;3m2001.46\u001B[0m\u001B[32;1m\u001B[1;3m\n",
      "Invoking: `SumsCalculator` with `{'a': 2001.46, 'b': 1940.29}`\n",
      "\n",
      "\n",
      "\u001B[0m\u001B[36;1m\u001B[1;3m3941.75\u001B[0m\u001B[32;1m\u001B[1;3m\n",
      "Invoking: `SumsCalculator` with `{'a': 3941.75, 'b': 573.63}`\n",
      "\n",
      "\n",
      "\u001B[0m\u001B[36;1m\u001B[1;3m4515.38\u001B[0m\u001B[32;1m\u001B[1;3m\n",
      "Invoking: `SumsCalculator` with `{'a': 4515.38, 'b': 65.72}`\n",
      "\n",
      "\n",
      "\u001B[0m\u001B[36;1m\u001B[1;3m4581.1\u001B[0m\u001B[32;1m\u001B[1;3m\n",
      "Invoking: `SumsCalculator` with `{'a': 4581.1, 'b': 35.0}`\n",
      "\n",
      "\n",
      "\u001B[0m\u001B[36;1m\u001B[1;3m4616.1\u001B[0m\u001B[32;1m\u001B[1;3m\n",
      "Invoking: `SumsCalculator` with `{'a': 4616.1, 'b': 552.0}`\n",
      "\n",
      "\n",
      "\u001B[0m\u001B[36;1m\u001B[1;3m5168.1\u001B[0m\u001B[32;1m\u001B[1;3m\n",
      "Invoking: `SumsCalculator` with `{'a': 5168.1, 'b': 76.16}`\n",
      "\n",
      "\n",
      "\u001B[0m\u001B[36;1m\u001B[1;3m5244.26\u001B[0m\u001B[32;1m\u001B[1;3m\n",
      "Invoking: `SumsCalculator` with `{'a': 5244.26, 'b': 29.12}`\n",
      "\n",
      "\n",
      "\u001B[0m\u001B[36;1m\u001B[1;3m5273.38\u001B[0m\u001B[32;1m\u001B[1;3mThe total cost of $355.39 + $924.87 + $721.2 + $1940.29 + $573.63 + $65.72 + $35.00 + $552.00 + $76.16 + $29.12 is $5273.38.\u001B[0m\n",
      "\n",
      "\u001B[1m> Finished chain.\u001B[0m\n"
     ]
    },
    {
     "data": {
      "text/plain": [
       "{'input': 'Cost of $355.39 + $924.87 + $721.2 + $1940.29 + $573.63 + $65.72 + $35.00 + $552.00 + $76.16 + $29.12',\n",
       " 'output': 'The total cost of $355.39 + $924.87 + $721.2 + $1940.29 + $573.63 + $65.72 + $35.00 + $552.00 + $76.16 + $29.12 is $5273.38.'}"
      ]
     },
     "execution_count": 2,
     "metadata": {},
     "output_type": "execute_result"
    }
   ],
   "execution_count": 2
  }
 ],
 "metadata": {
  "kernelspec": {
   "display_name": "Python 3",
   "language": "python",
   "name": "python3"
  },
  "language_info": {
   "codemirror_mode": {
    "name": "ipython",
    "version": 2
   },
   "file_extension": ".py",
   "mimetype": "text/x-python",
   "name": "python",
   "nbconvert_exporter": "python",
   "pygments_lexer": "ipython2",
   "version": "2.7.6"
  }
 },
 "nbformat": 4,
 "nbformat_minor": 5
}
