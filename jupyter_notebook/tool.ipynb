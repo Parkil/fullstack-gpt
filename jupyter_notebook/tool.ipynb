{
 "cells": [
  {
   "cell_type": "code",
   "id": "initial_id",
   "metadata": {
    "collapsed": true,
    "ExecuteTime": {
     "end_time": "2024-06-13T04:36:50.296578Z",
     "start_time": "2024-06-13T04:36:38.190670Z"
    }
   },
   "source": [
    "from langchain.agents import create_sql_agent, AgentType\n",
    "from langchain_openai import ChatOpenAI\n",
    "from langchain.agents.agent_toolkits import SQLDatabaseToolkit\n",
    "from langchain.sql_database import SQLDatabase\n",
    "\n",
    "llm = ChatOpenAI(temperature=0.1)\n",
    "db = SQLDatabase.from_uri(\"sqlite:///movies.sqlite\")\n",
    "toolkit = SQLDatabaseToolkit(db=db, llm=llm)\n",
    "\n",
    "agent = create_sql_agent(llm=llm, toolkit=toolkit, agent_type=AgentType.ZERO_SHOT_REACT_DESCRIPTION, verbose=True)\n",
    "\n",
    "# agent.invoke(\"Give me the 5 directors that have the highest grossing films\")\n",
    "agent.invoke(\"Give me the movies that have them highest votes but the lowest budgets and give me the name of their directors also include their gross revenue.\")"
   ],
   "outputs": [
    {
     "name": "stdout",
     "output_type": "stream",
     "text": [
      "\n",
      "\n",
      "\u001B[1m> Entering new SQL Agent Executor chain...\u001B[0m\n",
      "\u001B[32;1m\u001B[1;3mI need to find the movies with the highest votes and lowest budgets, then get the directors' names and gross revenue for those movies.\n",
      "Action: sql_db_query_checker\n",
      "Action Input: SELECT title, director, budget, votes, gross_revenue FROM movies ORDER BY votes DESC, budget ASC LIMIT 1;\u001B[0m\u001B[36;1m\u001B[1;3mSELECT title, director, budget, votes, gross_revenue \n",
      "FROM movies \n",
      "ORDER BY votes DESC, budget ASC \n",
      "LIMIT 1;\u001B[0m\u001B[32;1m\u001B[1;3mThe query looks good, I will now execute it to get the result.\n",
      "Action: sql_db_query\n",
      "Action Input: SELECT title, director, budget, votes, gross_revenue FROM movies ORDER BY votes DESC, budget ASC LIMIT 1;\u001B[0m\u001B[36;1m\u001B[1;3mError: (sqlite3.OperationalError) no such column: director\n",
      "[SQL: SELECT title, director, budget, votes, gross_revenue FROM movies ORDER BY votes DESC, budget ASC LIMIT 1;]\n",
      "(Background on this error at: https://sqlalche.me/e/20/e3q8)\u001B[0m\u001B[32;1m\u001B[1;3mI need to check the schema of the movies table to see what columns are available.\n",
      "Action: sql_db_schema\n",
      "Action Input: movies\u001B[0m\u001B[33;1m\u001B[1;3m\n",
      "CREATE TABLE movies (\n",
      "\tid INTEGER, \n",
      "\toriginal_title VARCHAR, \n",
      "\tbudget INTEGER, \n",
      "\tpopularity INTEGER, \n",
      "\trelease_date TEXT, \n",
      "\trevenue INTEGER, \n",
      "\ttitle TEXT, \n",
      "\tvote_average REAL, \n",
      "\tvote_count INTEGER, \n",
      "\toverview TEXT, \n",
      "\ttagline TEXT, \n",
      "\tuid INTEGER, \n",
      "\tdirector_id INTEGER DEFAULT 0 NOT NULL, \n",
      "\tPRIMARY KEY (id)\n",
      ")\n",
      "\n",
      "/*\n",
      "3 rows from movies table:\n",
      "id\toriginal_title\tbudget\tpopularity\trelease_date\trevenue\ttitle\tvote_average\tvote_count\toverview\ttagline\tuid\tdirector_id\n",
      "43597\tAvatar\t237000000\t150\t2009-12-10\t2787965087\tAvatar\t7.2\t11800\tIn the 22nd century, a paraplegic Marine is dispatched to the moon Pandora on a unique mission, but \tEnter the World of Pandora.\t19995\t4762\n",
      "43598\tPirates of the Caribbean: At World's End\t300000000\t139\t2007-05-19\t961000000\tPirates of the Caribbean: At World's End\t6.9\t4500\tCaptain Barbossa, long believed to be dead, has come back to life and is headed to the edge of the E\tAt the end of the world, the adventure begins.\t285\t4763\n",
      "43599\tSpectre\t245000000\t107\t2015-10-26\t880674609\tSpectre\t6.3\t4466\tA cryptic message from Bond’s past sends him on a trail to uncover a sinister organization. While M \tA Plan No One Escapes\t206647\t4764\n",
      "*/\u001B[0m\u001B[32;1m\u001B[1;3mI see that the director information is stored in a separate table called director_id. I need to join the movies table with the directors table to get the director's name.\n",
      "Action: sql_db_query_checker\n",
      "Action Input: SELECT m.title, d.name AS director, m.budget, m.votes, m.gross_revenue \n",
      "FROM movies m \n",
      "JOIN directors d ON m.director_id = d.id \n",
      "ORDER BY m.votes DESC, m.budget ASC \n",
      "LIMIT 1;\u001B[0m\u001B[36;1m\u001B[1;3mSELECT m.title, d.name AS director, m.budget, m.votes, m.gross_revenue \n",
      "FROM movies m \n",
      "JOIN directors d ON m.director_id = d.id \n",
      "ORDER BY m.votes DESC, m.budget ASC \n",
      "LIMIT 1;\u001B[0m\u001B[32;1m\u001B[1;3mThe query looks good now, I will execute it to get the final answer.\n",
      "Action: sql_db_query\n",
      "Action Input: SELECT m.title, d.name AS director, m.budget, m.votes, m.gross_revenue \n",
      "FROM movies m \n",
      "JOIN directors d ON m.director_id = d.id \n",
      "ORDER BY m.votes DESC, m.budget ASC \n",
      "LIMIT 1;\u001B[0m\u001B[36;1m\u001B[1;3mError: (sqlite3.OperationalError) no such column: m.votes\n",
      "[SQL: SELECT m.title, d.name AS director, m.budget, m.votes, m.gross_revenue \n",
      "FROM movies m \n",
      "JOIN directors d ON m.director_id = d.id \n",
      "ORDER BY m.votes DESC, m.budget ASC \n",
      "LIMIT 1;]\n",
      "(Background on this error at: https://sqlalche.me/e/20/e3q8)\u001B[0m\u001B[32;1m\u001B[1;3mI need to use the correct column name for votes, which is vote_count. I will update the query and try again.\n",
      "Action: sql_db_query\n",
      "Action Input: SELECT m.title, d.name AS director, m.budget, m.vote_count AS votes, m.revenue AS gross_revenue \n",
      "FROM movies m \n",
      "JOIN directors d ON m.director_id = d.id \n",
      "ORDER BY m.vote_count DESC, m.budget ASC \n",
      "LIMIT 1;\u001B[0m\u001B[36;1m\u001B[1;3m[('Inception', 'Christopher Nolan', 160000000, 13752, 825532764)]\u001B[0m\u001B[32;1m\u001B[1;3mI now know the final answer.\n",
      "Final Answer: The movie with the highest votes but the lowest budget is \"Inception\" directed by Christopher Nolan with a budget of $160,000,000, 13,752 votes, and a gross revenue of $825,532,764.\u001B[0m\n",
      "\n",
      "\u001B[1m> Finished chain.\u001B[0m\n"
     ]
    },
    {
     "data": {
      "text/plain": [
       "{'input': 'Give me the movies that have them highest votes but the lowest budgets and give me the name of their directors also include their gross revenue.',\n",
       " 'output': 'The movie with the highest votes but the lowest budget is \"Inception\" directed by Christopher Nolan with a budget of $160,000,000, 13,752 votes, and a gross revenue of $825,532,764.'}"
      ]
     },
     "execution_count": 6,
     "metadata": {},
     "output_type": "execute_result"
    }
   ],
   "execution_count": 6
  },
  {
   "metadata": {},
   "cell_type": "code",
   "outputs": [],
   "execution_count": null,
   "source": "",
   "id": "300c1d89d7c58dee"
  }
 ],
 "metadata": {
  "kernelspec": {
   "display_name": "Python 3",
   "language": "python",
   "name": "python3"
  },
  "language_info": {
   "codemirror_mode": {
    "name": "ipython",
    "version": 2
   },
   "file_extension": ".py",
   "mimetype": "text/x-python",
   "name": "python",
   "nbconvert_exporter": "python",
   "pygments_lexer": "ipython2",
   "version": "2.7.6"
  }
 },
 "nbformat": 4,
 "nbformat_minor": 5
}
