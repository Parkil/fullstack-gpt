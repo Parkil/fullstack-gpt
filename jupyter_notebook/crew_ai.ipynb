{
 "cells": [
  {
   "cell_type": "code",
   "id": "initial_id",
   "metadata": {
    "collapsed": true,
    "ExecuteTime": {
     "end_time": "2024-07-12T21:35:01.594884Z",
     "start_time": "2024-07-12T21:35:01.590818Z"
    }
   },
   "source": [
    "import os\n",
    "from dotenv import load_dotenv\n",
    "\n",
    "load_dotenv()\n",
    "\n",
    "os.environ[\"OPENAI_MODEL_NAME\"] = \"gpt-4o\""
   ],
   "execution_count": 7,
   "outputs": []
  },
  {
   "metadata": {
    "ExecuteTime": {
     "end_time": "2024-07-12T21:35:02.586433Z",
     "start_time": "2024-07-12T21:35:01.648303Z"
    }
   },
   "cell_type": "code",
   "source": [
    "from crewai import Crew, Agent, Task\n",
    "\n",
    "international_chef = Agent(\n",
    "    role=\"International Chef\",\n",
    "    goal=\"Create ethnic cuisine recipies that are easy to cook at home\",\n",
    "    backstory=\"\"\"\n",
    "    You are an famous chef that specializes in couisine from countries all around the world.\n",
    "    You know how to cook the most traditional dishes from all cultures but you also know how to adapt them for people to be able to cook them at home.\n",
    "    \"\"\",\n",
    "    verbose=True, # 상세 로그 표시\n",
    "    allow_delegation=True, # 다른 agent 에 task 위임 가능 여부 설정 False 일 경우 자체 agent 에서 처리\n",
    ")\n",
    "\n",
    "healthy_chef = Agent(\n",
    "    role=\"Healthy Chef\",\n",
    "    goal=\"Turn any recipe into a healthy vegetarian recipe that is easy to cook with home ingredients.\",\n",
    "    backstory=\"\"\"\n",
    "    You are a chef specialized in healthy cooking.\n",
    "    You can take any recipe and change the ingredients to make it vegetarian friendly without loosing the escense of the dish and what makes it delicious.\n",
    "    \"\"\",\n",
    "    verbose=True,\n",
    "    allow_delegation=True,\n",
    ")"
   ],
   "id": "7eca2556815511a5",
   "execution_count": 8,
   "outputs": []
  },
  {
   "metadata": {
    "ExecuteTime": {
     "end_time": "2024-07-12T21:35:02.592328Z",
     "start_time": "2024-07-12T21:35:02.587443Z"
    }
   },
   "cell_type": "code",
   "source": [
    "normal_recipe = Task(\n",
    "    description=\"Come up with a {dish} that serves {people} people.\",\n",
    "    agent=international_chef,\n",
    "    expected_output=\"Your answer MUST have three sections, the ingredients required with their quantities, the preparation instructions and serving suggestions\",\n",
    "    output_file=\"normal_recipe.md\",\n",
    ")\n",
    "\n",
    "healthy_recipe = Task(\n",
    "    description=\"Replace the ingredients of a recipe to make it vegetarian without making it less delicious, adjust if needed.\",\n",
    "    agent=healthy_chef,\n",
    "    expected_output=\"Your answer MUST have four sections, the ingredients required with their quantities, the preparation instructions, serving suggestions and an explanation of the replaced ingredients.\",\n",
    "    output_file=\"healthy_recipe.md\",\n",
    ")"
   ],
   "id": "5285ef332c4c083b",
   "execution_count": 9,
   "outputs": []
  },
  {
   "metadata": {
    "ExecuteTime": {
     "end_time": "2024-07-12T21:36:01.146618Z",
     "start_time": "2024-07-12T21:35:02.593338Z"
    }
   },
   "cell_type": "code",
   "source": [
    "crew = Crew(\n",
    "    tasks=[\n",
    "        normal_recipe,\n",
    "        healthy_recipe,\n",
    "    ],\n",
    "    agents=[\n",
    "        international_chef,\n",
    "        healthy_chef,\n",
    "    ],\n",
    "    verbose=2\n",
    ")\n",
    "\n",
    "result = crew.kickoff(\n",
    "    inputs={\n",
    "        \"dish\": \"Greek Dinner\",\n",
    "        \"people\": \"5\",\n",
    "    }\n",
    ")"
   ],
   "id": "d07d128ef4e90262",
   "execution_count": 10,
   "outputs": []
  }
 ],
 "metadata": {
  "kernelspec": {
   "display_name": "Python 3",
   "language": "python",
   "name": "python3"
  },
  "language_info": {
   "codemirror_mode": {
    "name": "ipython",
    "version": 2
   },
   "file_extension": ".py",
   "mimetype": "text/x-python",
   "name": "python",
   "nbconvert_exporter": "python",
   "pygments_lexer": "ipython2",
   "version": "2.7.6"
  }
 },
 "nbformat": 4,
 "nbformat_minor": 5
}
