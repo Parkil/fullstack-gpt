{
 "cells": [
  {
   "cell_type": "code",
   "id": "initial_id",
   "metadata": {
    "collapsed": true,
    "ExecuteTime": {
     "end_time": "2024-07-06T02:24:57.716526Z",
     "start_time": "2024-07-06T02:24:47.987148Z"
    }
   },
   "source": [
    "from typing_extensions import override\n",
    "import openai as client\n",
    "from openai.lib.streaming import AssistantEventHandler\n",
    "\n",
    "# open ai assistant 생성\n",
    "# assistant = client.beta.assistants.create(\n",
    "#     name=\"Book Assistant\",\n",
    "#     instructions=\"You help users with their questions on the files they upload\",\n",
    "#     model=\"gpt-4-turbo\",\n",
    "#     tools=[{\"type\": \"file_search\"}]\n",
    "# )\n",
    "\n",
    "assistant_id = 'asst_vSYfxk144i8kWlJbqn7Cb22i'\n",
    "\n",
    "# thread 에 파일을 직접 붙이면 thread 별로 vectorstore 가 별도로 생성 된다 (기본 적으로 7일 이 지나면 만료됨) \n",
    "message_file = client.files.create(\n",
    "    file=open(\"../files/sample.txt\", \"rb\"), purpose=\"assistants\"\n",
    ")\n",
    "\n",
    "'''\n",
    "# vector store 를 고정 으로 사용 하는 방법\n",
    "# vector_store 에 파일을 업로드\n",
    "vector_store = client.beta.vector_stores.create(name=\"Financial Statements\")\n",
    " \n",
    "file_paths = [\"edgar/goog-10k.pdf\", \"edgar/brka-10k.txt\"]\n",
    "file_streams = [open(path, \"rb\") for path in file_paths]\n",
    " \n",
    "file_batch = client.beta.vector_stores.file_batches.upload_and_poll(\n",
    "  vector_store_id=vector_store.id, files=file_streams\n",
    ")\n",
    " \n",
    "print(file_batch.status)\n",
    "print(file_batch.file_counts)\n",
    "\n",
    "# thread 에 file_search 수행 시 기존 vector store 를 가져 오도록 설정\n",
    "thread = client.beta.threads.create(\n",
    "  messages=[ { \"role\": \"user\", \"content\": \"How do I cancel my subscription?\"} ],\n",
    "  tool_resources={\n",
    "    \"file_search\": {\n",
    "      \"vector_store_ids\": [\"vs_2\"]\n",
    "    }\n",
    "  }\n",
    ")\n",
    "'''\n",
    "thread = client.beta.threads.create(\n",
    "    messages=[\n",
    "        {\n",
    "            \"role\": \"user\",\n",
    "            \"content\": \"I want to know where does Winston live and how his apartment looks like.\",\n",
    "            # \"content\": \"I want you to help me with this file\",\n",
    "            \"attachments\": [\n",
    "                {\"file_id\": message_file.id, \"tools\": [{\"type\": \"file_search\"}]}\n",
    "            ],\n",
    "        }\n",
    "    ]\n",
    ")\n",
    "\n",
    "\n",
    "class EventHandler(AssistantEventHandler):\n",
    "    @override\n",
    "    def on_text_created(self, text) -> None:\n",
    "        print(f\"\\nassistant > \", end=\"\", flush=True)\n",
    "\n",
    "    @override\n",
    "    def on_tool_call_created(self, tool_call):\n",
    "        print(f\"\\nassistant > {tool_call.type}\\n\", flush=True)\n",
    "\n",
    "    @override\n",
    "    def on_message_done(self, message) -> None:\n",
    "        # print a citation to the file searched\n",
    "        message_content = message.content[0].text\n",
    "        annotations = message_content.annotations\n",
    "        citations = []\n",
    "        for index, annotation in enumerate(annotations):\n",
    "            message_content.value = message_content.value.replace(\n",
    "                annotation.text, f\"[{index}]\"\n",
    "            )\n",
    "            if file_citation := getattr(annotation, \"file_citation\", None):\n",
    "                cited_file = client.files.retrieve(file_citation.file_id)\n",
    "                citations.append(f\"[{index}] {cited_file.filename}\")\n",
    "\n",
    "        print(message_content.value)\n",
    "        print(\"\\n\".join(citations))\n",
    "\n",
    "\n",
    "# Then, we use the stream SDK helper\n",
    "# with the EventHandler class to create the Run\n",
    "# and stream the response.\n",
    "\n",
    "with client.beta.threads.runs.stream(\n",
    "        thread_id=thread.id,\n",
    "        assistant_id=assistant_id,\n",
    "        # instructions=\"Please address the user as Jane Doe. The user has a premium account.\",\n",
    "        event_handler=EventHandler(),\n",
    ") as stream:\n",
    "    stream.until_done()"
   ],
   "outputs": [
    {
     "name": "stdout",
     "output_type": "stream",
     "text": [
      "\n",
      "assistant > file_search\n",
      "\n",
      "\n",
      "assistant > Winston lives in a dilapidated apartment building called Victory Mansions[0]. His apartment is described as having a hallway that smells of boiled cabbage and old rag mats. The flat is located seven flights up, and the building's lift seldom works, forcing residents to use the stairs. Inside his apartment, there is a telescreen that cannot be completely shut off, forming part of the surface of the wall. Winston's living conditions are further highlighted by the cold and meager furnishings, emphasizing the oppressive and bleak nature of his environment[0].\n",
      "[0] sample.txt\n",
      "[1] sample.txt\n"
     ]
    }
   ],
   "execution_count": 7
  },
  {
   "metadata": {
    "ExecuteTime": {
     "end_time": "2024-07-06T02:25:06.804716Z",
     "start_time": "2024-07-06T02:25:06.459263Z"
    }
   },
   "cell_type": "code",
   "source": [
    "aaa = client.beta.threads.messages.create(\n",
    "    thread_id=thread.id, role=\"user\", content=\"Where does he work?\"\n",
    ")\n",
    "\n",
    "aaa"
   ],
   "id": "64268a367e083e5",
   "outputs": [
    {
     "data": {
      "text/plain": [
       "Message(id='msg_pmlZDDCCmpFEmOXd9OLwbLM1', assistant_id=None, attachments=[], completed_at=None, content=[TextContentBlock(text=Text(annotations=[], value='Where does he work?'), type='text')], created_at=1720232709, incomplete_at=None, incomplete_details=None, metadata={}, object='thread.message', role='user', run_id=None, status=None, thread_id='thread_hBWqcirVGh8w80Bpx26aNn4f')"
      ]
     },
     "execution_count": 8,
     "metadata": {},
     "output_type": "execute_result"
    }
   ],
   "execution_count": 8
  },
  {
   "metadata": {
    "ExecuteTime": {
     "end_time": "2024-07-06T02:25:42.398893Z",
     "start_time": "2024-07-06T02:25:37.039835Z"
    }
   },
   "cell_type": "code",
   "source": [
    "with client.beta.threads.runs.stream(\n",
    "        thread_id=thread.id,\n",
    "        assistant_id=assistant_id,\n",
    "        # instructions=\"Please address the user as Jane Doe. The user has a premium account.\",\n",
    "        event_handler=EventHandler(),\n",
    ") as stream:\n",
    "    stream.until_done()"
   ],
   "id": "b10cd6d12aaa9fa1",
   "outputs": [
    {
     "name": "stdout",
     "output_type": "stream",
     "text": [
      "\n",
      "assistant > file_search\n",
      "\n",
      "\n",
      "assistant > Winston works at the Ministry of Truth, where he is involved in the alteration and adjustment of historical records to fit the narratives and doctrines of the Party[0].\n",
      "[0] sample.txt\n"
     ]
    }
   ],
   "execution_count": 9
  }
 ],
 "metadata": {
  "kernelspec": {
   "display_name": "Python 3",
   "language": "python",
   "name": "python3"
  },
  "language_info": {
   "codemirror_mode": {
    "name": "ipython",
    "version": 2
   },
   "file_extension": ".py",
   "mimetype": "text/x-python",
   "name": "python",
   "nbconvert_exporter": "python",
   "pygments_lexer": "ipython2",
   "version": "2.7.6"
  }
 },
 "nbformat": 4,
 "nbformat_minor": 5
}
