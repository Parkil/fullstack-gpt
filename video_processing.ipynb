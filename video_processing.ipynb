{
 "cells": [
  {
   "cell_type": "code",
   "id": "initial_id",
   "metadata": {
    "collapsed": true,
    "ExecuteTime": {
     "end_time": "2024-05-28T00:24:09.744039Z",
     "start_time": "2024-05-28T00:23:57.356637Z"
    }
   },
   "source": [
    "# video 에서 audio 추출 command: ffmpeg -i files/sample_video.mp4 -vn files/audio.mp3\n",
    "import subprocess\n",
    "\n",
    "def extract_audio_from_video(video_path:str, audio_path:str):\n",
    "    command = [\"ffmpeg\", \"-i\", video_path, \"-vn\", audio_path]\n",
    "    subprocess.run(command)\n",
    "\n",
    "extract_audio_from_video('./files/sample_video.mp4', './files/audio.mp3')"
   ],
   "outputs": [],
   "execution_count": 26
  },
  {
   "metadata": {
    "ExecuteTime": {
     "end_time": "2024-05-28T00:45:25.410476Z",
     "start_time": "2024-05-28T00:45:15.342378Z"
    }
   },
   "cell_type": "code",
   "source": [
    "# audio 파일 분할\n",
    "from pydub import AudioSegment\n",
    "import math\n",
    "\n",
    "track = AudioSegment.from_mp3('./files/audio.mp3')\n",
    "\n",
    "ten_minutes = 10 * 60 * 1000\n",
    "\n",
    "chunks = math.ceil(len(track) / ten_minutes)\n",
    "\n",
    "for i in range(chunks):\n",
    "    start_time = i * ten_minutes\n",
    "    end_time = (i + 1) * ten_minutes\n",
    "    \n",
    "    # end_time 이 track 의 length 를 넘어 가면 알아서 마지막 index 로 맞춘다\n",
    "    chunk = track[start_time:end_time]\n",
    "    chunk.export(f'./files/chunks/chunk_{i}.mp3', format=\"mp3\")"
   ],
   "id": "e349e739cf24fd0a",
   "outputs": [
    {
     "name": "stdout",
     "output_type": "stream",
     "text": [
      "2493.984\n",
      "2493984.0\n",
      "0 - 600000\n",
      "600000 - 1200000\n",
      "1200000 - 1800000\n",
      "1800000 - 2400000\n",
      "2400000 - 3000000\n"
     ]
    }
   ],
   "execution_count": 36
  }
 ],
 "metadata": {
  "kernelspec": {
   "display_name": "Python 3",
   "language": "python",
   "name": "python3"
  },
  "language_info": {
   "codemirror_mode": {
    "name": "ipython",
    "version": 2
   },
   "file_extension": ".py",
   "mimetype": "text/x-python",
   "name": "python",
   "nbconvert_exporter": "python",
   "pygments_lexer": "ipython2",
   "version": "2.7.6"
  }
 },
 "nbformat": 4,
 "nbformat_minor": 5
}
