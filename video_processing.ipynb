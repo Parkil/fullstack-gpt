{
 "cells": [
  {
   "cell_type": "code",
   "id": "initial_id",
   "metadata": {
    "collapsed": true,
    "ExecuteTime": {
     "end_time": "2024-05-29T06:57:39.283195Z",
     "start_time": "2024-05-29T06:57:31.693979Z"
    }
   },
   "source": [
    "# video 에서 audio 추출 command: ffmpeg -i files/sample_video.mp4 -vn files/audio.mp3\n",
    "import subprocess\n",
    "\n",
    "def extract_audio_from_video(video_path:str, audio_path:str):\n",
    "    command = [\"ffmpeg\", \"-i\", video_path, \"-vn\", audio_path]\n",
    "    subprocess.run(command)\n",
    "\n",
    "extract_audio_from_video('./files/sample_video.mp4', './files/audio.mp3')"
   ],
   "execution_count": 2,
   "outputs": []
  },
  {
   "metadata": {
    "ExecuteTime": {
     "end_time": "2024-05-29T06:58:25.358747Z",
     "start_time": "2024-05-29T06:58:16.240442Z"
    }
   },
   "cell_type": "code",
   "source": [
    "# audio 파일 분할\n",
    "from pydub import AudioSegment\n",
    "import math\n",
    "\n",
    "def cut_audio_in_chunks(*, audio_path:str, minutes_in_chunk:int, chunks_dir:str):\n",
    "    track = AudioSegment.from_mp3(audio_path)\n",
    "    \n",
    "    minutes_in_chunk = minutes_in_chunk * 60 * 1000\n",
    "    chunk_size = math.ceil(len(track) / minutes_in_chunk)\n",
    "    \n",
    "    for i in range(chunk_size):\n",
    "        start_time = i * minutes_in_chunk\n",
    "        end_time = (i + 1) * minutes_in_chunk\n",
    "        \n",
    "        # end_time 이 track 의 length 를 넘어 가면 알아서 마지막 index 로 맞춘다\n",
    "        chunk = track[start_time:end_time]\n",
    "        chunk.export(f'{chunks_dir}/chunk_{i}.mp3', format=\"mp3\")\n",
    "        \n",
    "\n",
    "cut_audio_in_chunks(audio_path='./files/audio.mp3',  minutes_in_chunk=10, chunks_dir='./files/chunks')"
   ],
   "id": "e349e739cf24fd0a",
   "execution_count": 3,
   "outputs": []
  },
  {
   "metadata": {
    "ExecuteTime": {
     "end_time": "2024-05-29T23:07:22.617232Z",
     "start_time": "2024-05-29T23:06:26.356060Z"
    }
   },
   "cell_type": "code",
   "source": [
    "# openai whisper 에 음성 파일을 전달 해서 녹취록 작성 \n",
    "from openai import OpenAI\n",
    "\n",
    "import os\n",
    "api_key = os.getenv('OPENAI_API_KEY')\n",
    "\n",
    "import glob\n",
    "def transcribe_chunks(chunks_dir:str, dest_path:str):\n",
    "    files = glob.glob(f'{chunks_dir}/*.mp3')\n",
    "    \n",
    "    client = OpenAI(api_key=api_key)\n",
    "    for file in files:\n",
    "        with open(file, 'rb') as audio_file, open(dest_path, 'a') as text_file:\n",
    "            transcript = client.audio.transcriptions.create(model='whisper-1', language='en', file=audio_file)\n",
    "            text_file.write(transcript.text)\n",
    "    \n",
    "transcribe_chunks('./files/chunks', './files/script/script.txt')"
   ],
   "id": "917a7f051e16e84a",
   "execution_count": 1,
   "outputs": []
  }
 ],
 "metadata": {
  "kernelspec": {
   "display_name": "Python 3",
   "language": "python",
   "name": "python3"
  },
  "language_info": {
   "codemirror_mode": {
    "name": "ipython",
    "version": 2
   },
   "file_extension": ".py",
   "mimetype": "text/x-python",
   "name": "python",
   "nbconvert_exporter": "python",
   "pygments_lexer": "ipython2",
   "version": "2.7.6"
  }
 },
 "nbformat": 4,
 "nbformat_minor": 5
}
